{
 "cells": [
  {
   "cell_type": "code",
   "execution_count": 1,
   "id": "01e18950-1714-478a-850e-2ea3d21cd413",
   "metadata": {
    "tags": []
   },
   "outputs": [],
   "source": [
    "from pathlib import Path\n",
    "from glob import glob\n",
    "import os\n",
    "from ultralytics import YOLO\n",
    "import cv2\n",
    "import matplotlib.pyplot as plt\n",
    "import imutils\n",
    "%matplotlib inline"
   ]
  },
  {
   "cell_type": "code",
   "execution_count": 2,
   "id": "48c04b13-bbcb-4fb5-9969-09f6586e318c",
   "metadata": {
    "tags": []
   },
   "outputs": [
    {
     "name": "stdout",
     "output_type": "stream",
     "text": [
      "pwd: /home/corcasta/Ships_DetectionRT\n"
     ]
    }
   ],
   "source": [
    "#Setting up working directory\n",
    "if os.path.basename(os.getcwd()) != \"Ships_DetectionRT\":\n",
    "    working_dir = str(Path(os.getcwd()).parent.parent)\n",
    "    \n",
    "if os.path.exists(working_dir):\n",
    "    os.chdir(working_dir)\n",
    "    print(\"pwd: \" + working_dir)\n",
    "else:\n",
    "    assert(\"Desired working directory doesn't exist\")\n",
    "    "
   ]
  },
  {
   "cell_type": "code",
   "execution_count": 3,
   "id": "25068062-f309-4758-a4d8-dd1c57e8ce4f",
   "metadata": {
    "tags": []
   },
   "outputs": [],
   "source": [
    "from deepsparse import Pipeline\n"
   ]
  },
  {
   "cell_type": "code",
   "execution_count": 4,
   "id": "74d94005-1c31-47f3-8a5b-b93826b1bd01",
   "metadata": {
    "tags": []
   },
   "outputs": [],
   "source": [
    "#Loading trained weights\n",
    "onnx_weights = sorted(glob(os.path.join(working_dir,\n",
    "                                           \"local\",\n",
    "                                           \"training\", \n",
    "                                           \"runs\", \n",
    "                                           \"detect\", \n",
    "                                           \"train\", \n",
    "                                           \"weights\", \n",
    "                                           \"*.onnx\")))\n",
    "best_onnx_weights = onnx_weights[0]"
   ]
  },
  {
   "cell_type": "code",
   "execution_count": 8,
   "id": "803d4bb4-ae1d-4843-b5e5-3c2cd728bc8a",
   "metadata": {
    "tags": []
   },
   "outputs": [],
   "source": [
    "yolo_pipeline = Pipeline.create(\n",
    "    task=\"yolo\",\n",
    "    model_path=best_onnx_weights, # if using custom model, pass in local path to model.onnx\n",
    "    class_names={\"boat\":1, \"buoy\":2, \"kayak\":3, \"ship\":4},   # if using custom model, pass in a list of classes the model will clasify or a path to a json file containing them\n",
    "    model_config=None,  # if using custom model, pass in the path to a local model config file here\n",
    ")"
   ]
  },
  {
   "cell_type": "code",
   "execution_count": 6,
   "id": "4304d525-a43c-4772-b32a-b4c0cfebc24c",
   "metadata": {
    "tags": []
   },
   "outputs": [],
   "source": [
    "#Loading Test dataset\n",
    "test_imgs = sorted(glob(os.path.join(working_dir, \"SMDataset_YV8\", \"test\", \"images\", \"*\")))"
   ]
  },
  {
   "cell_type": "code",
   "execution_count": 8,
   "id": "baad9007-cb27-4c50-9d19-232e05e250c9",
   "metadata": {
    "tags": []
   },
   "outputs": [
    {
     "data": {
      "text/plain": [
       "'/home/corcasta/Ships_DetectionRT/SMDataset_YV8/test/images/MVI_1646_VIS_frame85_jpg.rf.b05aa15498796bcbe7788b459afff2ed.jpg'"
      ]
     },
     "execution_count": 8,
     "metadata": {},
     "output_type": "execute_result"
    }
   ],
   "source": []
  },
  {
   "cell_type": "code",
   "execution_count": 9,
   "id": "d25ede0a-3d69-4481-8d38-fde392061aef",
   "metadata": {
    "tags": []
   },
   "outputs": [
    {
     "ename": "KeyError",
     "evalue": "'8024'",
     "output_type": "error",
     "traceback": [
      "\u001b[0;31m---------------------------------------------------------------------------\u001b[0m",
      "\u001b[0;31mKeyError\u001b[0m                                  Traceback (most recent call last)",
      "Cell \u001b[0;32mIn[9], line 1\u001b[0m\n\u001b[0;32m----> 1\u001b[0m inference \u001b[38;5;241m=\u001b[39m \u001b[43myolo_pipeline\u001b[49m\u001b[43m(\u001b[49m\u001b[43mimages\u001b[49m\u001b[38;5;241;43m=\u001b[39;49m\u001b[43mtest_imgs\u001b[49m\u001b[43m[\u001b[49m\u001b[38;5;241;43m-\u001b[39;49m\u001b[38;5;241;43m1\u001b[39;49m\u001b[43m]\u001b[49m\u001b[43m,\u001b[49m\u001b[43m \u001b[49m\u001b[43miou_thres\u001b[49m\u001b[38;5;241;43m=\u001b[39;49m\u001b[38;5;241;43m0.6\u001b[39;49m\u001b[43m,\u001b[49m\u001b[43m \u001b[49m\u001b[43mconf_thres\u001b[49m\u001b[38;5;241;43m=\u001b[39;49m\u001b[38;5;241;43m0.001\u001b[39;49m\u001b[43m)\u001b[49m\n\u001b[1;32m      2\u001b[0m \u001b[38;5;28mprint\u001b[39m(inference)\n",
      "File \u001b[0;32m~/miniconda3/envs/spdrone/lib/python3.9/site-packages/deepsparse/pipeline.py:284\u001b[0m, in \u001b[0;36mPipeline.__call__\u001b[0;34m(self, *args, **kwargs)\u001b[0m\n\u001b[1;32m    282\u001b[0m \u001b[38;5;66;03m# ------ POSTPROCESSING ------\u001b[39;00m\n\u001b[1;32m    283\u001b[0m timer\u001b[38;5;241m.\u001b[39mstart(InferencePhases\u001b[38;5;241m.\u001b[39mPOST_PROCESS)\n\u001b[0;32m--> 284\u001b[0m pipeline_outputs \u001b[38;5;241m=\u001b[39m \u001b[38;5;28;43mself\u001b[39;49m\u001b[38;5;241;43m.\u001b[39;49m\u001b[43mprocess_engine_outputs\u001b[49m\u001b[43m(\u001b[49m\n\u001b[1;32m    285\u001b[0m \u001b[43m    \u001b[49m\u001b[43mengine_outputs\u001b[49m\u001b[43m,\u001b[49m\u001b[43m \u001b[49m\u001b[38;5;241;43m*\u001b[39;49m\u001b[38;5;241;43m*\u001b[39;49m\u001b[43mpostprocess_kwargs\u001b[49m\n\u001b[1;32m    286\u001b[0m \u001b[43m\u001b[49m\u001b[43m)\u001b[49m\n\u001b[1;32m    287\u001b[0m \u001b[38;5;28;01mif\u001b[39;00m \u001b[38;5;129;01mnot\u001b[39;00m \u001b[38;5;28misinstance\u001b[39m(pipeline_outputs, \u001b[38;5;28mself\u001b[39m\u001b[38;5;241m.\u001b[39moutput_schema):\n\u001b[1;32m    288\u001b[0m     \u001b[38;5;28;01mraise\u001b[39;00m \u001b[38;5;167;01mValueError\u001b[39;00m(\n\u001b[1;32m    289\u001b[0m         \u001b[38;5;124mf\u001b[39m\u001b[38;5;124m\"\u001b[39m\u001b[38;5;124mOutputs of \u001b[39m\u001b[38;5;132;01m{\u001b[39;00m\u001b[38;5;28mself\u001b[39m\u001b[38;5;241m.\u001b[39m\u001b[38;5;18m__class__\u001b[39m\u001b[38;5;132;01m}\u001b[39;00m\u001b[38;5;124m must be instances of \u001b[39m\u001b[38;5;124m\"\u001b[39m\n\u001b[1;32m    290\u001b[0m         \u001b[38;5;124mf\u001b[39m\u001b[38;5;124m\"\u001b[39m\u001b[38;5;132;01m{\u001b[39;00m\u001b[38;5;28mself\u001b[39m\u001b[38;5;241m.\u001b[39moutput_schema\u001b[38;5;132;01m}\u001b[39;00m\u001b[38;5;124m found output of type \u001b[39m\u001b[38;5;132;01m{\u001b[39;00m\u001b[38;5;28mtype\u001b[39m(pipeline_outputs)\u001b[38;5;132;01m}\u001b[39;00m\u001b[38;5;124m\"\u001b[39m\n\u001b[1;32m    291\u001b[0m     )\n",
      "File \u001b[0;32m~/miniconda3/envs/spdrone/lib/python3.9/site-packages/deepsparse/yolo/pipelines.py:256\u001b[0m, in \u001b[0;36mYOLOPipeline.process_engine_outputs\u001b[0;34m(self, engine_outputs, **kwargs)\u001b[0m\n\u001b[1;32m    252\u001b[0m     \u001b[38;5;28;01mif\u001b[39;00m \u001b[38;5;28mself\u001b[39m\u001b[38;5;241m.\u001b[39mclass_names \u001b[38;5;129;01mis\u001b[39;00m \u001b[38;5;129;01mnot\u001b[39;00m \u001b[38;5;28;01mNone\u001b[39;00m:\n\u001b[1;32m    253\u001b[0m         batch_labels_as_strings \u001b[38;5;241m=\u001b[39m [\n\u001b[1;32m    254\u001b[0m             \u001b[38;5;28mstr\u001b[39m(\u001b[38;5;28mint\u001b[39m(label)) \u001b[38;5;28;01mfor\u001b[39;00m label \u001b[38;5;129;01min\u001b[39;00m batch_labels[\u001b[38;5;241m-\u001b[39m\u001b[38;5;241m1\u001b[39m]\n\u001b[1;32m    255\u001b[0m         ]\n\u001b[0;32m--> 256\u001b[0m         batch_class_names \u001b[38;5;241m=\u001b[39m [\n\u001b[1;32m    257\u001b[0m             \u001b[38;5;28mself\u001b[39m\u001b[38;5;241m.\u001b[39mclass_names[label_string]\n\u001b[1;32m    258\u001b[0m             \u001b[38;5;28;01mfor\u001b[39;00m label_string \u001b[38;5;129;01min\u001b[39;00m batch_labels_as_strings\n\u001b[1;32m    259\u001b[0m         ]\n\u001b[1;32m    260\u001b[0m         batch_labels[\u001b[38;5;241m-\u001b[39m\u001b[38;5;241m1\u001b[39m] \u001b[38;5;241m=\u001b[39m batch_class_names\n\u001b[1;32m    262\u001b[0m \u001b[38;5;28;01mreturn\u001b[39;00m YOLOOutput(\n\u001b[1;32m    263\u001b[0m     boxes\u001b[38;5;241m=\u001b[39mbatch_boxes,\n\u001b[1;32m    264\u001b[0m     scores\u001b[38;5;241m=\u001b[39mbatch_scores,\n\u001b[1;32m    265\u001b[0m     labels\u001b[38;5;241m=\u001b[39mbatch_labels,\n\u001b[1;32m    266\u001b[0m )\n",
      "File \u001b[0;32m~/miniconda3/envs/spdrone/lib/python3.9/site-packages/deepsparse/yolo/pipelines.py:257\u001b[0m, in \u001b[0;36m<listcomp>\u001b[0;34m(.0)\u001b[0m\n\u001b[1;32m    252\u001b[0m     \u001b[38;5;28;01mif\u001b[39;00m \u001b[38;5;28mself\u001b[39m\u001b[38;5;241m.\u001b[39mclass_names \u001b[38;5;129;01mis\u001b[39;00m \u001b[38;5;129;01mnot\u001b[39;00m \u001b[38;5;28;01mNone\u001b[39;00m:\n\u001b[1;32m    253\u001b[0m         batch_labels_as_strings \u001b[38;5;241m=\u001b[39m [\n\u001b[1;32m    254\u001b[0m             \u001b[38;5;28mstr\u001b[39m(\u001b[38;5;28mint\u001b[39m(label)) \u001b[38;5;28;01mfor\u001b[39;00m label \u001b[38;5;129;01min\u001b[39;00m batch_labels[\u001b[38;5;241m-\u001b[39m\u001b[38;5;241m1\u001b[39m]\n\u001b[1;32m    255\u001b[0m         ]\n\u001b[1;32m    256\u001b[0m         batch_class_names \u001b[38;5;241m=\u001b[39m [\n\u001b[0;32m--> 257\u001b[0m             \u001b[38;5;28;43mself\u001b[39;49m\u001b[38;5;241;43m.\u001b[39;49m\u001b[43mclass_names\u001b[49m\u001b[43m[\u001b[49m\u001b[43mlabel_string\u001b[49m\u001b[43m]\u001b[49m\n\u001b[1;32m    258\u001b[0m             \u001b[38;5;28;01mfor\u001b[39;00m label_string \u001b[38;5;129;01min\u001b[39;00m batch_labels_as_strings\n\u001b[1;32m    259\u001b[0m         ]\n\u001b[1;32m    260\u001b[0m         batch_labels[\u001b[38;5;241m-\u001b[39m\u001b[38;5;241m1\u001b[39m] \u001b[38;5;241m=\u001b[39m batch_class_names\n\u001b[1;32m    262\u001b[0m \u001b[38;5;28;01mreturn\u001b[39;00m YOLOOutput(\n\u001b[1;32m    263\u001b[0m     boxes\u001b[38;5;241m=\u001b[39mbatch_boxes,\n\u001b[1;32m    264\u001b[0m     scores\u001b[38;5;241m=\u001b[39mbatch_scores,\n\u001b[1;32m    265\u001b[0m     labels\u001b[38;5;241m=\u001b[39mbatch_labels,\n\u001b[1;32m    266\u001b[0m )\n",
      "\u001b[0;31mKeyError\u001b[0m: '8024'"
     ]
    }
   ],
   "source": [
    "inference = yolo_pipeline(images=test_imgs[-1], iou_thres=0.6, conf_thres=0.001)\n",
    "print(inference)"
   ]
  },
  {
   "cell_type": "code",
   "execution_count": null,
   "id": "530369f4-05f4-4138-9d1c-cd8ace5f22f2",
   "metadata": {},
   "outputs": [],
   "source": []
  }
 ],
 "metadata": {
  "kernelspec": {
   "display_name": "Python 3 (ipykernel)",
   "language": "python",
   "name": "python3"
  },
  "language_info": {
   "codemirror_mode": {
    "name": "ipython",
    "version": 3
   },
   "file_extension": ".py",
   "mimetype": "text/x-python",
   "name": "python",
   "nbconvert_exporter": "python",
   "pygments_lexer": "ipython3",
   "version": "3.9.16"
  }
 },
 "nbformat": 4,
 "nbformat_minor": 5
}
