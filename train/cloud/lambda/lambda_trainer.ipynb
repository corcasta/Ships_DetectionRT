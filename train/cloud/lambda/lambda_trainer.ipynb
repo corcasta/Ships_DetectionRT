{
 "cells": [
  {
   "cell_type": "code",
   "execution_count": 8,
   "id": "1UIeuwW1DQZw",
   "metadata": {
    "colab": {
     "base_uri": "https://localhost:8080/"
    },
    "id": "1UIeuwW1DQZw",
    "outputId": "32303cf1-4ceb-4823-9571-b1210459faf7"
   },
   "outputs": [
    {
     "name": "stdout",
     "output_type": "stream",
     "text": [
      "Sat Feb 25 19:36:50 2023       \n",
      "+-----------------------------------------------------------------------------+\n",
      "| NVIDIA-SMI 525.85.12    Driver Version: 525.85.12    CUDA Version: 12.0     |\n",
      "|-------------------------------+----------------------+----------------------+\n",
      "| GPU  Name        Persistence-M| Bus-Id        Disp.A | Volatile Uncorr. ECC |\n",
      "| Fan  Temp  Perf  Pwr:Usage/Cap|         Memory-Usage | GPU-Util  Compute M. |\n",
      "|                               |                      |               MIG M. |\n",
      "|===============================+======================+======================|\n",
      "|   0  Tesla T4            Off  | 00000000:00:04.0 Off |                    0 |\n",
      "| N/A   53C    P0    26W /  70W |      0MiB / 15360MiB |      0%      Default |\n",
      "|                               |                      |                  N/A |\n",
      "+-------------------------------+----------------------+----------------------+\n",
      "                                                                               \n",
      "+-----------------------------------------------------------------------------+\n",
      "| Processes:                                                                  |\n",
      "|  GPU   GI   CI        PID   Type   Process name                  GPU Memory |\n",
      "|        ID   ID                                                   Usage      |\n",
      "|=============================================================================|\n",
      "|  No running processes found                                                 |\n",
      "+-----------------------------------------------------------------------------+\n"
     ]
    }
   ],
   "source": [
    "!nvidia-smi"
   ]
  },
  {
   "cell_type": "code",
   "execution_count": null,
   "id": "0269176d-5de2-46d9-9c6a-23eb85faee21",
   "metadata": {},
   "outputs": [],
   "source": [
    "# Pip install method (recommended)\n",
    "!pip install ultralytics==8.0.20 --quiet\n",
    "!pip install roboflow --quiet"
   ]
  },
  {
   "cell_type": "code",
   "execution_count": 10,
   "id": "42fdd69c-0804-4af1-8d29-2294aeb8c720",
   "metadata": {
    "id": "42fdd69c-0804-4af1-8d29-2294aeb8c720"
   },
   "outputs": [],
   "source": [
    "from IPython.display import display, Image\n",
    "from ultralytics import YOLO"
   ]
  },
  {
   "cell_type": "code",
   "execution_count": 11,
   "id": "CXkTzEBsELJY",
   "metadata": {
    "colab": {
     "base_uri": "https://localhost:8080/"
    },
    "id": "CXkTzEBsELJY",
    "outputId": "b1f8a32e-8069-4d3c-cca3-b385da4c03c7"
   },
   "outputs": [
    {
     "name": "stdout",
     "output_type": "stream",
     "text": [
      "/content\n"
     ]
    }
   ],
   "source": [
    "%cd {HOME}\n",
    "model = YOLO(f'{HOME}/yolov8n.pt')"
   ]
  },
  {
   "cell_type": "code",
   "execution_count": 16,
   "id": "34143a9a-b1df-462b-96c1-77f16b853d7f",
   "metadata": {
    "colab": {
     "base_uri": "https://localhost:8080/"
    },
    "id": "34143a9a-b1df-462b-96c1-77f16b853d7f",
    "outputId": "0229271c-4786-466d-df47-d1cf13c6725a"
   },
   "outputs": [
    {
     "name": "stdout",
     "output_type": "stream",
     "text": [
      "Downloading Dataset Version Zip in Singapore-maritime-4 to yolov8: 99% [248766464 / 249015713] bytes"
     ]
    },
    {
     "name": "stderr",
     "output_type": "stream",
     "text": [
      "Extracting Dataset Version Zip to Singapore-maritime-4 in yolov8:: 100%|██████████| 12712/12712 [00:03<00:00, 3627.06it/s]\n"
     ]
    }
   ],
   "source": [
    "!mkdir {HOME}/datasets\n",
    "%cd {HOME}/datasets\n",
    "\n",
    "#Fetching Dataset from Roboflow\n",
    "rf = Roboflow(api_key=\"1i4eeTFi9GwP4MZVNKi9\")\n",
    "project = rf.workspace(\"lyx-limyixian-gmail-com\").project(\"singapore-maritime\")\n",
    "dataset = project.version(4).download(\"yolov8\")"
   ]
  },
  {
   "cell_type": "markdown",
   "id": "9f9n507oEyqj",
   "metadata": {
    "id": "9f9n507oEyqj"
   },
   "source": [
    "Custom Training\n"
   ]
  },
  {
   "cell_type": "code",
   "execution_count": 17,
   "id": "5bab16b8-3579-4d71-8176-bfb8b1c58973",
   "metadata": {
    "colab": {
     "base_uri": "https://localhost:8080/"
    },
    "id": "5bab16b8-3579-4d71-8176-bfb8b1c58973",
    "outputId": "11b0aca4-97de-4bc1-8555-78b6bc7a98b8"
   },
   "outputs": [
    {
     "name": "stdout",
     "output_type": "stream",
     "text": [
      "/content\n",
      "Ultralytics YOLOv8.0.20 🚀 Python-3.8.10 torch-1.13.1+cu116 CUDA:0 (Tesla T4, 15102MiB)\n",
      "\u001b[34m\u001b[1myolo/engine/trainer: \u001b[0mtask=detect, mode=train, model=yolov8s.yaml, data=/content/datasets/Singapore-maritime-4/data.yaml, epochs=25, patience=50, batch=16, imgsz=640, save=True, cache=False, device=, workers=8, project=None, name=None, exist_ok=False, pretrained=False, optimizer=SGD, verbose=True, seed=0, deterministic=True, single_cls=False, image_weights=False, rect=False, cos_lr=False, close_mosaic=10, resume=False, overlap_mask=True, mask_ratio=4, dropout=False, val=True, save_json=False, save_hybrid=False, conf=0.001, iou=0.7, max_det=300, half=False, dnn=False, plots=True, source=ultralytics/assets/, show=False, save_txt=False, save_conf=False, save_crop=False, hide_labels=False, hide_conf=False, vid_stride=1, line_thickness=3, visualize=False, augment=False, agnostic_nms=False, classes=None, retina_masks=False, boxes=True, format=torchscript, keras=False, optimize=False, int8=False, dynamic=False, simplify=False, opset=17, workspace=4, nms=False, lr0=0.01, lrf=0.01, momentum=0.937, weight_decay=0.001, warmup_epochs=3.0, warmup_momentum=0.8, warmup_bias_lr=0.1, box=7.5, cls=0.5, dfl=1.5, fl_gamma=0.0, label_smoothing=0.0, nbs=64, hsv_h=0.015, hsv_s=0.7, hsv_v=0.4, degrees=0.0, translate=0.1, scale=0.5, shear=0.0, perspective=0.0, flipud=0.0, fliplr=0.5, mosaic=1.0, mixup=0.0, copy_paste=0.0, cfg=None, v5loader=False, save_dir=runs/detect/train\n",
      "Downloading https://ultralytics.com/assets/Arial.ttf to /root/.config/Ultralytics/Arial.ttf...\n",
      "100% 755k/755k [00:00<00:00, 16.5MB/s]\n",
      "Overriding model.yaml nc=80 with nc=4\n",
      "\n",
      "                   from  n    params  module                                       arguments                     \n",
      "  0                  -1  1       928  ultralytics.nn.modules.Conv                  [3, 32, 3, 2]                 \n",
      "  1                  -1  1     18560  ultralytics.nn.modules.Conv                  [32, 64, 3, 2]                \n",
      "  2                  -1  1     29056  ultralytics.nn.modules.C2f                   [64, 64, 1, True]             \n",
      "  3                  -1  1     73984  ultralytics.nn.modules.Conv                  [64, 128, 3, 2]               \n",
      "  4                  -1  2    197632  ultralytics.nn.modules.C2f                   [128, 128, 2, True]           \n",
      "  5                  -1  1    295424  ultralytics.nn.modules.Conv                  [128, 256, 3, 2]              \n",
      "  6                  -1  2    788480  ultralytics.nn.modules.C2f                   [256, 256, 2, True]           \n",
      "  7                  -1  1   1180672  ultralytics.nn.modules.Conv                  [256, 512, 3, 2]              \n",
      "  8                  -1  1   1838080  ultralytics.nn.modules.C2f                   [512, 512, 1, True]           \n",
      "  9                  -1  1    656896  ultralytics.nn.modules.SPPF                  [512, 512, 5]                 \n",
      " 10                  -1  1         0  torch.nn.modules.upsampling.Upsample         [None, 2, 'nearest']          \n",
      " 11             [-1, 6]  1         0  ultralytics.nn.modules.Concat                [1]                           \n",
      " 12                  -1  1    591360  ultralytics.nn.modules.C2f                   [768, 256, 1]                 \n",
      " 13                  -1  1         0  torch.nn.modules.upsampling.Upsample         [None, 2, 'nearest']          \n",
      " 14             [-1, 4]  1         0  ultralytics.nn.modules.Concat                [1]                           \n",
      " 15                  -1  1    148224  ultralytics.nn.modules.C2f                   [384, 128, 1]                 \n",
      " 16                  -1  1    147712  ultralytics.nn.modules.Conv                  [128, 128, 3, 2]              \n",
      " 17            [-1, 12]  1         0  ultralytics.nn.modules.Concat                [1]                           \n",
      " 18                  -1  1    493056  ultralytics.nn.modules.C2f                   [384, 256, 1]                 \n",
      " 19                  -1  1    590336  ultralytics.nn.modules.Conv                  [256, 256, 3, 2]              \n",
      " 20             [-1, 9]  1         0  ultralytics.nn.modules.Concat                [1]                           \n",
      " 21                  -1  1   1969152  ultralytics.nn.modules.C2f                   [768, 512, 1]                 \n",
      " 22        [15, 18, 21]  1   2117596  ultralytics.nn.modules.Detect                [4, [128, 256, 512]]          \n",
      "Model summary: 225 layers, 11137148 parameters, 11137132 gradients, 28.7 GFLOPs\n",
      "\n",
      "Transferred 349/355 items from pretrained weights\n",
      "2023-02-25 19:40:07.325588: I tensorflow/core/platform/cpu_feature_guard.cc:193] This TensorFlow binary is optimized with oneAPI Deep Neural Network Library (oneDNN) to use the following CPU instructions in performance-critical operations:  AVX2 FMA\n",
      "To enable them in other operations, rebuild TensorFlow with the appropriate compiler flags.\n",
      "2023-02-25 19:40:08.221336: W tensorflow/compiler/xla/stream_executor/platform/default/dso_loader.cc:64] Could not load dynamic library 'libnvinfer.so.7'; dlerror: libnvinfer.so.7: cannot open shared object file: No such file or directory; LD_LIBRARY_PATH: /usr/local/lib/python3.8/dist-packages/cv2/../../lib64:/usr/local/lib/python3.8/dist-packages/cv2/../../lib64:/usr/lib64-nvidia\n",
      "2023-02-25 19:40:08.221455: W tensorflow/compiler/xla/stream_executor/platform/default/dso_loader.cc:64] Could not load dynamic library 'libnvinfer_plugin.so.7'; dlerror: libnvinfer_plugin.so.7: cannot open shared object file: No such file or directory; LD_LIBRARY_PATH: /usr/local/lib/python3.8/dist-packages/cv2/../../lib64:/usr/local/lib/python3.8/dist-packages/cv2/../../lib64:/usr/lib64-nvidia\n",
      "2023-02-25 19:40:08.221476: W tensorflow/compiler/tf2tensorrt/utils/py_utils.cc:38] TF-TRT Warning: Cannot dlopen some TensorRT libraries. If you would like to use Nvidia GPU with TensorRT, please make sure the missing libraries mentioned above are installed properly.\n",
      "\u001b[34m\u001b[1moptimizer:\u001b[0m SGD(lr=0.01) with parameter groups 57 weight(decay=0.0), 64 weight(decay=0.001), 63 bias\n",
      "\u001b[34m\u001b[1mtrain: \u001b[0mScanning /content/datasets/Singapore-maritime-4/train/labels... 4445 images, 61 backgrounds, 0 corrupt: 100% 4445/4445 [00:02<00:00, 2022.21it/s]\n",
      "\u001b[34m\u001b[1mtrain: \u001b[0mNew cache created: /content/datasets/Singapore-maritime-4/train/labels.cache\n",
      "\u001b[34m\u001b[1malbumentations: \u001b[0mBlur(p=0.01, blur_limit=(3, 7)), MedianBlur(p=0.01, blur_limit=(3, 7)), ToGray(p=0.01), CLAHE(p=0.01, clip_limit=(1, 4.0), tile_grid_size=(8, 8))\n",
      "\u001b[34m\u001b[1mval: \u001b[0mScanning /content/datasets/Singapore-maritime-4/valid/labels... 1270 images, 13 backgrounds, 0 corrupt: 100% 1270/1270 [00:00<00:00, 2367.36it/s]\n",
      "\u001b[34m\u001b[1mval: \u001b[0mNew cache created: /content/datasets/Singapore-maritime-4/valid/labels.cache\n",
      "Image sizes 640 train, 640 val\n",
      "Using 2 dataloader workers\n",
      "Logging results to \u001b[1mruns/detect/train\u001b[0m\n",
      "Starting training for 25 epochs...\n",
      "\n",
      "      Epoch    GPU_mem   box_loss   cls_loss   dfl_loss  Instances       Size\n",
      "       1/25      5.38G      1.434      1.451      1.103        109        640: 100% 278/278 [02:42<00:00,  1.71it/s]\n",
      "                 Class     Images  Instances      Box(P          R      mAP50  mAP50-95): 100% 40/40 [00:18<00:00,  2.14it/s]\n",
      "                   all       1270       8259      0.737      0.622      0.679      0.402\n",
      "                  boat       1270        197      0.837      0.653      0.685      0.487\n",
      "                  buoy       1270        132      0.723      0.727      0.761      0.452\n",
      "                 kayak       1270        179      0.585      0.251      0.383      0.117\n",
      "                  ship       1270       7751      0.802      0.857      0.888      0.554\n",
      "\n",
      "      Epoch    GPU_mem   box_loss   cls_loss   dfl_loss  Instances       Size\n",
      "       2/25      5.87G      1.251     0.7575      1.028        112        640: 100% 278/278 [02:33<00:00,  1.81it/s]\n",
      "                 Class     Images  Instances      Box(P          R      mAP50  mAP50-95): 100% 40/40 [00:18<00:00,  2.19it/s]\n",
      "                   all       1270       8259      0.795      0.727      0.782      0.443\n",
      "                  boat       1270        197      0.719      0.761      0.791      0.524\n",
      "                  buoy       1270        132      0.915      0.742      0.853      0.517\n",
      "                 kayak       1270        179      0.662       0.58       0.59      0.175\n",
      "                  ship       1270       7751      0.883      0.823      0.893      0.554\n",
      "\n",
      "      Epoch    GPU_mem   box_loss   cls_loss   dfl_loss  Instances       Size\n",
      "       3/25      6.36G      1.227     0.7368      1.019        102        640: 100% 278/278 [02:33<00:00,  1.81it/s]\n",
      "                 Class     Images  Instances      Box(P          R      mAP50  mAP50-95): 100% 40/40 [00:16<00:00,  2.37it/s]\n",
      "                   all       1270       8259       0.68      0.563      0.561       0.29\n",
      "                  boat       1270        197       0.75       0.32      0.384      0.237\n",
      "                  buoy       1270        132      0.721      0.746      0.762      0.418\n",
      "                 kayak       1270        179      0.515       0.48      0.388      0.121\n",
      "                  ship       1270       7751      0.735      0.706       0.71      0.383\n",
      "\n",
      "      Epoch    GPU_mem   box_loss   cls_loss   dfl_loss  Instances       Size\n",
      "       4/25      6.92G      1.206     0.6971      1.007        115        640: 100% 278/278 [02:34<00:00,  1.80it/s]\n",
      "                 Class     Images  Instances      Box(P          R      mAP50  mAP50-95): 100% 40/40 [00:17<00:00,  2.35it/s]\n",
      "                   all       1270       8259      0.803      0.757       0.82      0.489\n",
      "                  boat       1270        197      0.764      0.741      0.793      0.575\n",
      "                  buoy       1270        132      0.685       0.74      0.767      0.487\n",
      "                 kayak       1270        179      0.894      0.659      0.792      0.283\n",
      "                  ship       1270       7751      0.869      0.888      0.929      0.611\n",
      "\n",
      "      Epoch    GPU_mem   box_loss   cls_loss   dfl_loss  Instances       Size\n",
      "       5/25      6.92G      1.134      0.643     0.9901        109        640: 100% 278/278 [02:32<00:00,  1.82it/s]\n",
      "                 Class     Images  Instances      Box(P          R      mAP50  mAP50-95): 100% 40/40 [00:17<00:00,  2.28it/s]\n",
      "                   all       1270       8259      0.892      0.811      0.878      0.516\n",
      "                  boat       1270        197      0.911      0.778      0.849      0.579\n",
      "                  buoy       1270        132      0.954      0.773      0.891      0.534\n",
      "                 kayak       1270        179      0.772      0.788      0.818      0.297\n",
      "                  ship       1270       7751      0.932      0.905      0.952      0.652\n",
      "\n",
      "      Epoch    GPU_mem   box_loss   cls_loss   dfl_loss  Instances       Size\n",
      "       6/25      6.92G       1.07     0.6039     0.9709         95        640: 100% 278/278 [02:33<00:00,  1.81it/s]\n",
      "                 Class     Images  Instances      Box(P          R      mAP50  mAP50-95): 100% 40/40 [00:18<00:00,  2.19it/s]\n",
      "                   all       1270       8259      0.924      0.811      0.878       0.52\n",
      "                  boat       1270        197       0.92      0.815      0.902       0.63\n",
      "                  buoy       1270        132      0.936      0.924      0.928      0.559\n",
      "                 kayak       1270        179      0.919      0.659      0.773      0.279\n",
      "                  ship       1270       7751       0.92      0.844      0.909      0.612\n",
      "\n",
      "      Epoch    GPU_mem   box_loss   cls_loss   dfl_loss  Instances       Size\n",
      "       7/25      6.92G      1.029     0.5755     0.9545        135        640: 100% 278/278 [02:34<00:00,  1.80it/s]\n",
      "                 Class     Images  Instances      Box(P          R      mAP50  mAP50-95): 100% 40/40 [00:18<00:00,  2.21it/s]\n",
      "                   all       1270       8259      0.921      0.885      0.933       0.58\n",
      "                  boat       1270        197      0.929      0.893      0.927      0.636\n",
      "                  buoy       1270        132      0.958      0.894      0.956      0.619\n",
      "                 kayak       1270        179      0.867      0.799      0.882      0.363\n",
      "                  ship       1270       7751      0.932      0.954      0.969      0.701\n",
      "\n",
      "      Epoch    GPU_mem   box_loss   cls_loss   dfl_loss  Instances       Size\n",
      "       8/25      6.92G     0.9861     0.5488     0.9437         87        640: 100% 278/278 [02:32<00:00,  1.82it/s]\n",
      "                 Class     Images  Instances      Box(P          R      mAP50  mAP50-95): 100% 40/40 [00:17<00:00,  2.27it/s]\n",
      "                   all       1270       8259      0.902      0.845      0.915      0.585\n",
      "                  boat       1270        197      0.903      0.868      0.942      0.704\n",
      "                  buoy       1270        132      0.905      0.894      0.951       0.62\n",
      "                 kayak       1270        179       0.84      0.693      0.795      0.299\n",
      "                  ship       1270       7751      0.959      0.925      0.971      0.716\n",
      "\n",
      "      Epoch    GPU_mem   box_loss   cls_loss   dfl_loss  Instances       Size\n",
      "       9/25      6.92G     0.9486     0.5223     0.9313         98        640: 100% 278/278 [02:35<00:00,  1.79it/s]\n",
      "                 Class     Images  Instances      Box(P          R      mAP50  mAP50-95): 100% 40/40 [00:17<00:00,  2.24it/s]\n",
      "                   all       1270       8259      0.904      0.882      0.923      0.612\n",
      "                  boat       1270        197      0.977      0.866       0.97       0.72\n",
      "                  buoy       1270        132      0.895      0.924      0.962      0.632\n",
      "                 kayak       1270        179      0.775      0.816      0.788      0.351\n",
      "                  ship       1270       7751      0.968      0.923      0.971      0.745\n",
      "\n",
      "      Epoch    GPU_mem   box_loss   cls_loss   dfl_loss  Instances       Size\n",
      "      10/25      6.92G     0.9149     0.5065     0.9224        114        640: 100% 278/278 [02:34<00:00,  1.80it/s]\n",
      "                 Class     Images  Instances      Box(P          R      mAP50  mAP50-95): 100% 40/40 [00:17<00:00,  2.28it/s]\n",
      "                   all       1270       8259      0.923      0.899      0.943      0.592\n",
      "                  boat       1270        197      0.848      0.954      0.961      0.694\n",
      "                  buoy       1270        132          1      0.919      0.975      0.597\n",
      "                 kayak       1270        179       0.89      0.772      0.861      0.345\n",
      "                  ship       1270       7751      0.955      0.948      0.973       0.73\n",
      "\n",
      "      Epoch    GPU_mem   box_loss   cls_loss   dfl_loss  Instances       Size\n",
      "      11/25      6.92G      0.895     0.4932      0.919        123        640: 100% 278/278 [02:32<00:00,  1.82it/s]\n",
      "                 Class     Images  Instances      Box(P          R      mAP50  mAP50-95): 100% 40/40 [00:17<00:00,  2.31it/s]\n",
      "                   all       1270       8259      0.891      0.911      0.925      0.612\n",
      "                  boat       1270        197      0.938      0.919      0.968      0.727\n",
      "                  buoy       1270        132      0.959      0.894      0.966      0.652\n",
      "                 kayak       1270        179      0.711      0.872      0.785      0.318\n",
      "                  ship       1270       7751      0.958       0.96       0.98      0.753\n",
      "\n",
      "      Epoch    GPU_mem   box_loss   cls_loss   dfl_loss  Instances       Size\n",
      "      12/25      6.92G     0.8738     0.4788     0.9129        120        640: 100% 278/278 [02:33<00:00,  1.81it/s]\n",
      "                 Class     Images  Instances      Box(P          R      mAP50  mAP50-95): 100% 40/40 [00:17<00:00,  2.31it/s]\n",
      "                   all       1270       8259      0.919       0.92      0.954      0.632\n",
      "                  boat       1270        197      0.874      0.939      0.963       0.72\n",
      "                  buoy       1270        132       0.96      0.918      0.982      0.657\n",
      "                 kayak       1270        179      0.874      0.866       0.89      0.392\n",
      "                  ship       1270       7751      0.967      0.958      0.982       0.76\n",
      "\n",
      "      Epoch    GPU_mem   box_loss   cls_loss   dfl_loss  Instances       Size\n",
      "      13/25      6.92G     0.8478     0.4646      0.905         83        640: 100% 278/278 [02:32<00:00,  1.82it/s]\n",
      "                 Class     Images  Instances      Box(P          R      mAP50  mAP50-95): 100% 40/40 [00:17<00:00,  2.25it/s]\n",
      "                   all       1270       8259      0.929      0.912      0.963      0.645\n",
      "                  boat       1270        197      0.966      0.875      0.979      0.764\n",
      "                  buoy       1270        132      0.901      0.955      0.983      0.616\n",
      "                 kayak       1270        179      0.883      0.855      0.908      0.421\n",
      "                  ship       1270       7751      0.966      0.964      0.982       0.78\n",
      "\n",
      "      Epoch    GPU_mem   box_loss   cls_loss   dfl_loss  Instances       Size\n",
      "      14/25      6.92G     0.8238     0.4489     0.8996        109        640: 100% 278/278 [02:31<00:00,  1.84it/s]\n",
      "                 Class     Images  Instances      Box(P          R      mAP50  mAP50-95): 100% 40/40 [00:17<00:00,  2.30it/s]\n",
      "                   all       1270       8259      0.938      0.931       0.95      0.667\n",
      "                  boat       1270        197      0.989      0.917      0.987      0.798\n",
      "                  buoy       1270        132      0.949      0.977       0.99      0.671\n",
      "                 kayak       1270        179      0.849       0.86      0.838      0.405\n",
      "                  ship       1270       7751      0.966       0.97      0.986      0.795\n",
      "\n",
      "      Epoch    GPU_mem   box_loss   cls_loss   dfl_loss  Instances       Size\n",
      "      15/25      6.92G     0.8125     0.4377     0.8947        115        640: 100% 278/278 [02:32<00:00,  1.82it/s]\n",
      "                 Class     Images  Instances      Box(P          R      mAP50  mAP50-95): 100% 40/40 [00:17<00:00,  2.26it/s]\n",
      "                   all       1270       8259      0.932      0.911      0.958      0.661\n",
      "                  boat       1270        197       0.93      0.939      0.979      0.768\n",
      "                  buoy       1270        132        0.9      0.947      0.971      0.667\n",
      "                 kayak       1270        179      0.928      0.787      0.897      0.414\n",
      "                  ship       1270       7751      0.969      0.969      0.985      0.797\n",
      "Closing dataloader mosaic\n",
      "\u001b[34m\u001b[1malbumentations: \u001b[0mBlur(p=0.01, blur_limit=(3, 7)), MedianBlur(p=0.01, blur_limit=(3, 7)), ToGray(p=0.01), CLAHE(p=0.01, clip_limit=(1, 4.0), tile_grid_size=(8, 8))\n",
      "\n",
      "      Epoch    GPU_mem   box_loss   cls_loss   dfl_loss  Instances       Size\n",
      "      16/25      6.92G     0.7803      0.409     0.8863         84        640: 100% 278/278 [01:32<00:00,  3.00it/s]\n",
      "                 Class     Images  Instances      Box(P          R      mAP50  mAP50-95): 100% 40/40 [00:17<00:00,  2.30it/s]\n",
      "                   all       1270       8259      0.961      0.906      0.959      0.633\n",
      "                  boat       1270        197      0.968      0.959      0.984      0.769\n",
      "                  buoy       1270        132      0.977      0.917      0.977       0.61\n",
      "                 kayak       1270        179       0.93      0.782      0.891      0.383\n",
      "                  ship       1270       7751      0.968      0.966      0.983      0.769\n",
      "\n",
      "      Epoch    GPU_mem   box_loss   cls_loss   dfl_loss  Instances       Size\n",
      "      17/25      6.92G     0.7648     0.3976       0.88         74        640: 100% 278/278 [01:33<00:00,  2.98it/s]\n",
      "                 Class     Images  Instances      Box(P          R      mAP50  mAP50-95): 100% 40/40 [00:17<00:00,  2.29it/s]\n",
      "                   all       1270       8259      0.935      0.939      0.963      0.676\n",
      "                  boat       1270        197       0.95      0.974      0.985      0.779\n",
      "                  buoy       1270        132      0.976      0.942      0.985      0.707\n",
      "                 kayak       1270        179      0.844      0.866      0.894      0.413\n",
      "                  ship       1270       7751      0.969      0.973      0.986      0.806\n",
      "\n",
      "      Epoch    GPU_mem   box_loss   cls_loss   dfl_loss  Instances       Size\n",
      "      18/25      6.92G     0.7398     0.3871     0.8742         94        640: 100% 278/278 [01:31<00:00,  3.03it/s]\n",
      "                 Class     Images  Instances      Box(P          R      mAP50  mAP50-95): 100% 40/40 [00:17<00:00,  2.29it/s]\n",
      "                   all       1270       8259      0.952       0.94      0.971      0.683\n",
      "                  boat       1270        197      0.973       0.98       0.99      0.792\n",
      "                  buoy       1270        132      0.955      0.962      0.987      0.694\n",
      "                 kayak       1270        179      0.904      0.844      0.919      0.438\n",
      "                  ship       1270       7751      0.974      0.973      0.987      0.807\n",
      "\n",
      "      Epoch    GPU_mem   box_loss   cls_loss   dfl_loss  Instances       Size\n",
      "      19/25      6.92G     0.7224     0.3752     0.8678         76        640: 100% 278/278 [01:32<00:00,  2.99it/s]\n",
      "                 Class     Images  Instances      Box(P          R      mAP50  mAP50-95): 100% 40/40 [00:18<00:00,  2.18it/s]\n",
      "                   all       1270       8259      0.961      0.935      0.968      0.694\n",
      "                  boat       1270        197      0.969       0.98       0.99      0.794\n",
      "                  buoy       1270        132      0.992      0.931      0.986      0.704\n",
      "                 kayak       1270        179        0.9      0.859      0.909      0.455\n",
      "                  ship       1270       7751      0.984      0.971      0.988      0.822\n",
      "\n",
      "      Epoch    GPU_mem   box_loss   cls_loss   dfl_loss  Instances       Size\n",
      "      20/25      6.92G     0.6971     0.3644     0.8586        106        640: 100% 278/278 [01:30<00:00,  3.07it/s]\n",
      "                 Class     Images  Instances      Box(P          R      mAP50  mAP50-95): 100% 40/40 [00:17<00:00,  2.23it/s]\n",
      "                   all       1270       8259      0.945      0.938      0.962      0.699\n",
      "                  boat       1270        197      0.965      0.975      0.989      0.821\n",
      "                  buoy       1270        132      0.959      0.955      0.983      0.716\n",
      "                 kayak       1270        179      0.879      0.852       0.89      0.435\n",
      "                  ship       1270       7751      0.979      0.971      0.988      0.823\n",
      "\n",
      "      Epoch    GPU_mem   box_loss   cls_loss   dfl_loss  Instances       Size\n",
      "      21/25      6.92G     0.6819     0.3562     0.8596         73        640: 100% 278/278 [01:33<00:00,  2.97it/s]\n",
      "                 Class     Images  Instances      Box(P          R      mAP50  mAP50-95): 100% 40/40 [00:17<00:00,  2.29it/s]\n",
      "                   all       1270       8259      0.947      0.941      0.964      0.689\n",
      "                  boat       1270        197      0.931       0.99      0.991      0.802\n",
      "                  buoy       1270        132      0.967      0.962      0.976      0.694\n",
      "                 kayak       1270        179      0.921      0.832        0.9      0.435\n",
      "                  ship       1270       7751      0.969      0.979      0.988      0.827\n",
      "\n",
      "      Epoch    GPU_mem   box_loss   cls_loss   dfl_loss  Instances       Size\n",
      "      22/25      6.92G     0.6622     0.3434     0.8526         73        640: 100% 278/278 [01:31<00:00,  3.03it/s]\n",
      "                 Class     Images  Instances      Box(P          R      mAP50  mAP50-95): 100% 40/40 [00:17<00:00,  2.31it/s]\n",
      "                   all       1270       8259      0.966      0.952      0.976      0.709\n",
      "                  boat       1270        197      0.987       0.99      0.993      0.818\n",
      "                  buoy       1270        132      0.985      0.968      0.984      0.701\n",
      "                 kayak       1270        179      0.917      0.867      0.937      0.479\n",
      "                  ship       1270       7751      0.974      0.982      0.991      0.839\n",
      "\n",
      "      Epoch    GPU_mem   box_loss   cls_loss   dfl_loss  Instances       Size\n",
      "      23/25      6.92G     0.6458     0.3363     0.8481        100        640: 100% 278/278 [01:33<00:00,  2.98it/s]\n",
      "                 Class     Images  Instances      Box(P          R      mAP50  mAP50-95): 100% 40/40 [00:17<00:00,  2.24it/s]\n",
      "                   all       1270       8259      0.964       0.95      0.972       0.72\n",
      "                  boat       1270        197      0.985       0.99      0.991      0.829\n",
      "                  buoy       1270        132      0.988      0.962       0.99      0.721\n",
      "                 kayak       1270        179      0.901      0.872      0.918      0.484\n",
      "                  ship       1270       7751      0.982      0.978       0.99      0.844\n",
      "\n",
      "      Epoch    GPU_mem   box_loss   cls_loss   dfl_loss  Instances       Size\n",
      "      24/25      6.92G     0.6281     0.3269     0.8463         57        640: 100% 278/278 [01:31<00:00,  3.05it/s]\n",
      "                 Class     Images  Instances      Box(P          R      mAP50  mAP50-95): 100% 40/40 [00:18<00:00,  2.15it/s]\n",
      "                   all       1270       8259      0.971      0.956      0.976      0.729\n",
      "                  boat       1270        197       0.99      0.984      0.994      0.843\n",
      "                  buoy       1270        132      0.987      0.962      0.993      0.725\n",
      "                 kayak       1270        179      0.925      0.897      0.929      0.495\n",
      "                  ship       1270       7751      0.983       0.98       0.99      0.852\n",
      "\n",
      "      Epoch    GPU_mem   box_loss   cls_loss   dfl_loss  Instances       Size\n",
      "      25/25      6.92G     0.6152     0.3181     0.8453         78        640: 100% 278/278 [01:33<00:00,  2.97it/s]\n",
      "                 Class     Images  Instances      Box(P          R      mAP50  mAP50-95): 100% 40/40 [00:23<00:00,  1.73it/s]\n",
      "                   all       1270       8259      0.957       0.96      0.975      0.726\n",
      "                  boat       1270        197      0.965      0.975      0.989      0.833\n",
      "                  buoy       1270        132      0.985      0.984      0.991      0.723\n",
      "                 kayak       1270        179      0.902      0.899      0.928      0.494\n",
      "                  ship       1270       7751      0.977      0.982       0.99      0.853\n",
      "\n",
      "25 epochs completed in 1.030 hours.\n",
      "Optimizer stripped from runs/detect/train/weights/last.pt, 22.5MB\n",
      "Optimizer stripped from runs/detect/train/weights/best.pt, 22.5MB\n",
      "\n",
      "Validating runs/detect/train/weights/best.pt...\n",
      "Ultralytics YOLOv8.0.20 🚀 Python-3.8.10 torch-1.13.1+cu116 CUDA:0 (Tesla T4, 15102MiB)\n",
      "Model summary (fused): 168 layers, 11127132 parameters, 0 gradients, 28.4 GFLOPs\n",
      "                 Class     Images  Instances      Box(P          R      mAP50  mAP50-95): 100% 40/40 [00:22<00:00,  1.78it/s]\n",
      "                   all       1270       8259      0.971      0.956      0.976      0.729\n",
      "                  boat       1270        197       0.99      0.985      0.994      0.844\n",
      "                  buoy       1270        132      0.987      0.962      0.993      0.725\n",
      "                 kayak       1270        179      0.925      0.897      0.929      0.497\n",
      "                  ship       1270       7751      0.982       0.98       0.99      0.852\n",
      "Speed: 0.6ms pre-process, 4.4ms inference, 0.0ms loss, 1.5ms post-process per image\n",
      "Results saved to \u001b[1mruns/detect/train\u001b[0m\n"
     ]
    }
   ],
   "source": [
    "%cd {HOME}\n",
    "\n",
    "!yolo task=detect mode=train model=yolov8s.pt data={dataset.location}/data.yaml epochs=25 imgsz=640 plots=True"
   ]
  },
  {
   "cell_type": "code",
   "execution_count": 23,
   "id": "z6CKE8POFuTQ",
   "metadata": {
    "colab": {
     "base_uri": "https://localhost:8080/",
     "height": 35
    },
    "id": "z6CKE8POFuTQ",
    "outputId": "fe72c54e-fc4e-4f29-823e-63a2e8745236"
   },
   "outputs": [
    {
     "data": {
      "application/vnd.google.colaboratory.intrinsic+json": {
       "type": "string"
      },
      "text/plain": [
       "'/content/runs.zip'"
      ]
     },
     "execution_count": 23,
     "metadata": {},
     "output_type": "execute_result"
    }
   ],
   "source": [
    "import shutil\n",
    "shutil.make_archive('runs', 'zip', 'runs')"
   ]
  },
  {
   "cell_type": "code",
   "execution_count": null,
   "id": "RksLaS25dsZ_",
   "metadata": {
    "id": "RksLaS25dsZ_"
   },
   "outputs": [],
   "source": []
  },
  {
   "cell_type": "code",
   "execution_count": null,
   "id": "AXrE2vjtdfFg",
   "metadata": {
    "id": "AXrE2vjtdfFg"
   },
   "outputs": [],
   "source": []
  }
 ],
 "metadata": {
  "accelerator": "GPU",
  "colab": {
   "provenance": []
  },
  "gpuClass": "standard",
  "kernelspec": {
   "display_name": "Python 3 (ipykernel)",
   "language": "python",
   "name": "python3"
  },
  "language_info": {
   "codemirror_mode": {
    "name": "ipython",
    "version": 3
   },
   "file_extension": ".py",
   "mimetype": "text/x-python",
   "name": "python",
   "nbconvert_exporter": "python",
   "pygments_lexer": "ipython3",
   "version": "3.9.16"
  }
 },
 "nbformat": 4,
 "nbformat_minor": 5
}
