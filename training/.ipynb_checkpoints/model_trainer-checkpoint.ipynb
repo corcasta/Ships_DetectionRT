{
 "cells": [
  {
   "cell_type": "code",
   "execution_count": null,
   "id": "42fdd69c-0804-4af1-8d29-2294aeb8c720",
   "metadata": {},
   "outputs": [],
   "source": [
    "from ultralytics import YOLO\n",
    "import os\n"
   ]
  },
  {
   "cell_type": "code",
   "execution_count": 1,
   "id": "c5ea5cc5-1c74-4fd4-a920-6c7655cf07e6",
   "metadata": {
    "tags": []
   },
   "outputs": [
    {
     "name": "stdout",
     "output_type": "stream",
     "text": [
      "/home/corcasta/Documents/special_course/Ships_DetectionRT/notebooks\n"
     ]
    }
   ],
   "source": [
    "!pwd"
   ]
  },
  {
   "cell_type": "code",
   "execution_count": null,
   "id": "3536ba0b-7a71-4470-ad8c-d4eb68b1e7ac",
   "metadata": {},
   "outputs": [],
   "source": [
    "dataset = os.path"
   ]
  },
  {
   "cell_type": "code",
   "execution_count": null,
   "id": "34143a9a-b1df-462b-96c1-77f16b853d7f",
   "metadata": {},
   "outputs": [],
   "source": [
    "# Load the model.\n",
    "model = YOLO('yolov8n.pt')\n",
    " \n",
    "# Training.\n",
    "results = model.train(\n",
    "   data='pothole_v8.yaml',\n",
    "   imgsz=640,\n",
    "   epochs=10,\n",
    "   batch=8,\n",
    "   name='yolov8n_v8_50e'\n",
    ")"
   ]
  },
  {
   "cell_type": "code",
   "execution_count": null,
   "id": "5bab16b8-3579-4d71-8176-bfb8b1c58973",
   "metadata": {},
   "outputs": [],
   "source": []
  }
 ],
 "metadata": {
  "kernelspec": {
   "display_name": "Python 3 (ipykernel)",
   "language": "python",
   "name": "python3"
  },
  "language_info": {
   "codemirror_mode": {
    "name": "ipython",
    "version": 3
   },
   "file_extension": ".py",
   "mimetype": "text/x-python",
   "name": "python",
   "nbconvert_exporter": "python",
   "pygments_lexer": "ipython3",
   "version": "3.9.16"
  }
 },
 "nbformat": 4,
 "nbformat_minor": 5
}
