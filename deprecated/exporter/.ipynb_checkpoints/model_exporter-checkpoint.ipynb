{
 "cells": [
  {
   "cell_type": "markdown",
   "id": "aa474b72-3760-44fa-80d6-38e157b024e0",
   "metadata": {},
   "source": [
    "## This notebook exports YOLO model to ONNX format for deployment"
   ]
  },
  {
   "cell_type": "code",
   "execution_count": 1,
   "id": "45d4ba75-7e88-4097-9e22-7584b4b530b0",
   "metadata": {
    "tags": []
   },
   "outputs": [],
   "source": [
    "from pathlib import Path\n",
    "from glob import glob\n",
    "import os\n",
    "from ultralytics import YOLO\n",
    "import cv2\n",
    "import matplotlib.pyplot as plt\n",
    "import imutils\n",
    "%matplotlib inline"
   ]
  },
  {
   "cell_type": "code",
   "execution_count": 2,
   "id": "98e659c0-a495-4aee-b0c3-98fec207e645",
   "metadata": {
    "tags": []
   },
   "outputs": [
    {
     "name": "stdout",
     "output_type": "stream",
     "text": [
      "pwd: /home/corcasta/Ships_DetectionRT/local\n"
     ]
    }
   ],
   "source": [
    "#Setting up working directory\n",
    "if os.path.basename(os.getcwd()) != \"Ships_DetectionRT\":\n",
    "    working_dir = str(Path(os.getcwd()).parent)\n",
    "    \n",
    "if os.path.exists(working_dir):\n",
    "    os.chdir(working_dir)\n",
    "    print(\"pwd: \" + working_dir)\n",
    "else:\n",
    "    assert(\"Desired working directory doesn't exist\")\n",
    "    "
   ]
  },
  {
   "cell_type": "code",
   "execution_count": 4,
   "id": "61389d13-01f5-4b45-9243-4057895d1ba3",
   "metadata": {
    "tags": []
   },
   "outputs": [],
   "source": [
    "#Loading trained weights\n",
    "weights = sorted(glob(os.path.join(working_dir,\n",
    "                                   \"training\", \n",
    "                                   \"runs\", \n",
    "                                   \"detect\", \n",
    "                                   \"train\", \n",
    "                                   \"weights\", \n",
    "                                   \"*.pt\")))\n",
    "best_weights = weights[0]\n",
    "last_weights = weights[1]\n",
    "coco_weights = weights[2]"
   ]
  },
  {
   "cell_type": "code",
   "execution_count": 5,
   "id": "6f871577-4e9c-4ebd-98ba-f68cded4449c",
   "metadata": {},
   "outputs": [
    {
     "name": "stderr",
     "output_type": "stream",
     "text": [
      "Ultralytics YOLOv8.0.46 🚀 Python-3.9.16 torch-1.13.1+cu117 CPU\n",
      "Model summary (fused): 168 layers, 11127132 parameters, 0 gradients, 28.4 GFLOPs\n",
      "\n",
      "\u001b[34m\u001b[1mPyTorch:\u001b[0m starting from /home/corcasta/Ships_DetectionRT/local/training/runs/detect/train/weights/best.pt with input shape (1, 3, 640, 640) BCHW and output shape(s) (1, 8, 8400) (21.5 MB)\n",
      "\n",
      "\u001b[34m\u001b[1mONNX:\u001b[0m starting export with onnx 1.13.1...\n",
      "\u001b[34m\u001b[1mONNX:\u001b[0m export success ✅ 1.0s, saved as /home/corcasta/Ships_DetectionRT/local/training/runs/detect/train/weights/best.onnx (42.7 MB)\n",
      "\n",
      "Export complete (1.7s)\n",
      "Results saved to \u001b[1m/home/corcasta/Ships_DetectionRT/local/training/runs/detect/train/weights\u001b[0m\n",
      "Predict:         yolo predict task=detect model=/home/corcasta/Ships_DetectionRT/local/training/runs/detect/train/weights/best.onnx imgsz=640 \n",
      "Validate:        yolo val task=detect model=/home/corcasta/Ships_DetectionRT/local/training/runs/detect/train/weights/best.onnx imgsz=640 data=/content/datasets/Singapore-maritime-4/data.yaml \n",
      "Visualize:       https://netron.app\n"
     ]
    },
    {
     "data": {
      "text/plain": [
       "'/home/corcasta/Ships_DetectionRT/local/training/runs/detect/train/weights/best.onnx'"
      ]
     },
     "execution_count": 5,
     "metadata": {},
     "output_type": "execute_result"
    }
   ],
   "source": [
    "# Load a model\n",
    "model = YOLO(best_weights)  # load a custom trained\n",
    "\n",
    "# Export the model\n",
    "model.export(format=\"onnx\")"
   ]
  }
 ],
 "metadata": {
  "kernelspec": {
   "display_name": "Python 3 (ipykernel)",
   "language": "python",
   "name": "python3"
  },
  "language_info": {
   "codemirror_mode": {
    "name": "ipython",
    "version": 3
   },
   "file_extension": ".py",
   "mimetype": "text/x-python",
   "name": "python",
   "nbconvert_exporter": "python",
   "pygments_lexer": "ipython3",
   "version": "3.9.16"
  }
 },
 "nbformat": 4,
 "nbformat_minor": 5
}
